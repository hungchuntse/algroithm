{
 "cells": [
  {
   "cell_type": "code",
   "execution_count": 1,
   "metadata": {},
   "outputs": [],
   "source": [
    "import pandas as pd\n",
    "import numpy as np\n",
    "import matplotlib.pyplot as plt\n",
    "import math\n",
    "import functools\n",
    "import operator\n",
    "\n",
    "#用pandas讀取csv檔轉成Dataframe\n",
    "df_cords=pd.read_csv(r\"C:\\Users\\user\\Desktop\\cords.csv\", encoding=\"big5\")\n",
    "df_vehicless=pd.read_csv(r\"C:\\Users\\user\\Desktop\\demand.csv\", encoding=\"big5\", header=None)\n",
    "\n",
    "#捨去需求行，並將原點去除，而後轉為矩陣(numpy)\n",
    "cords=df_cords.to_numpy()\n",
    "cordsd=df_cords.drop('d',axis=1)\n",
    "cordsd=cordsd.drop(0).to_numpy()\n",
    "\n",
    "#定義原點位置\n",
    "depot=df_cords.loc[0].drop('d',axis=0)\n",
    "depotcor=depot.to_numpy()\n",
    "\n",
    "custs=df_cords.drop(0).to_numpy()\n",
    "vehicles=df_vehicless.to_numpy()\n",
    "\n",
    "def distance(x1,x2,y1,y2):\n",
    "    return math.sqrt((x1-x2)**2+(y1-y2)**2)\n",
    "\n",
    "#計算有多少顧客\n",
    "custs_array = np.arange(custs.shape[0])\n",
    "\n",
    "#隨機挑選顧客\n",
    "np.random.shuffle(custs_array)\n",
    "\n",
    "#取出當中顧客的位置\n",
    "row_rand = custs[custs_array[0:40]]\n",
    "row_rand_2 = cordsd[custs_array[0:40]]\n"
   ]
  },
  {
   "cell_type": "code",
   "execution_count": 2,
   "metadata": {},
   "outputs": [],
   "source": [
    "#計算車輛行走距離\n",
    "def totaltourdistance(custs_array):\n",
    "    d=0\n",
    "    x1=depot[0]\n",
    "    y1=depot[1]\n",
    "    x2=row_rand[0][0]\n",
    "    y2=row_rand[0][1]\n",
    "    d=d+distance(x1,x2,y1,y2)\n",
    "    for i in range(len(custs_array)-1):\n",
    "        x1=row_rand[i][0]\n",
    "        y1=row_rand[i][1]\n",
    "        x2=row_rand[i+1][0]\n",
    "        y2=row_rand[i+1][1]\n",
    "        d=d+distance(x1,x2,y1,y2)\n",
    "    x1=row_rand[len(custs_array)-1][0]\n",
    "    y1=row_rand[len(custs_array)-1][1]\n",
    "    x2=depot[0]\n",
    "    y2=depot[1]\n",
    "    d=d+distance(x1,x2,y1,y2)\n",
    "    return d"
   ]
  },
  {
   "cell_type": "code",
   "execution_count": 3,
   "metadata": {},
   "outputs": [
    {
     "name": "stdout",
     "output_type": "stream",
     "text": [
      "1276.5012698838734\n"
     ]
    }
   ],
   "source": [
    "d=0\n",
    "x1=depot[0]\n",
    "y1=depot[1]\n",
    "x2=row_rand[0][0]\n",
    "y2=row_rand[0][1]\n",
    "d=d+distance(x1,x2,y1,y2)\n",
    "for i in range(len(custs_array)-1):\n",
    "    x1=row_rand[i][0]\n",
    "    y1=row_rand[i][1]\n",
    "    x2=row_rand[i+1][0]\n",
    "    y2=row_rand[i+1][1]\n",
    "    d=d+distance(x1,x2,y1,y2)\n",
    "x1=row_rand[len(custs_array)-1][0]\n",
    "y1=row_rand[len(custs_array)-1][1]\n",
    "x2=depot[0]\n",
    "y2=depot[1]\n",
    "d=d+distance(x1,x2,y1,y2)\n",
    "print(d)"
   ]
  },
  {
   "cell_type": "code",
   "execution_count": 4,
   "metadata": {},
   "outputs": [],
   "source": [
    "#為每台車找出容量的使用情況\n",
    "def subtourslice(row_rand,vehicles):\n",
    "    capacityused = np.zeros(len(vehicles))\n",
    "    k = 0\n",
    "    #客戶數\n",
    "    vehgroup=[]\n",
    "    #每台車載完客戶後的最大容量\n",
    "    mass = []\n",
    "    for i in range(len(vehicles)):\n",
    "        while capacityused[i] < vehicles[i][1] and k <= (len(row_rand) - 1):\n",
    "            #各點的項加總\n",
    "            capacityused[i] = capacityused[i] + row_rand[k][2]\n",
    "            #print(\"capacityused\",capacityused[i])\n",
    "            #若超過容量的限制(每台140)，則減去上一個各戶容量\n",
    "            if capacityused[i] >= vehicles[i][1]:\n",
    "                capacityused[i] = capacityused[i] - row_rand[k][2]\n",
    "                k = k - 1\n",
    "                #這台車的客戶數\n",
    "                vehgroup.append(k)\n",
    "                k = k + 1\n",
    "                break\n",
    "            k = k + 1\n",
    "        mass.append(capacityused[i])\n",
    "    vehgroup.append(k - 1)\n",
    "    return vehgroup,mass"
   ]
  },
  {
   "cell_type": "code",
   "execution_count": 5,
   "metadata": {},
   "outputs": [
    {
     "name": "stdout",
     "output_type": "stream",
     "text": [
      "[8, 18, 26, 33, 38] [139.0, 139.0, 128.0, 130.0, 82.0]\n"
     ]
    }
   ],
   "source": [
    "capacityused = np.zeros(len(vehicles))\n",
    "k = 0\n",
    "#客戶數\n",
    "vehgroup=[]\n",
    "#每台車載完客戶後的最大容量\n",
    "mass = []\n",
    "for i in range(len(vehicles)):\n",
    "    while capacityused[i] < vehicles[i][1] and k <= (len(row_rand) - 1):\n",
    "        #各點的項加總\n",
    "        capacityused[i] = capacityused[i] + row_rand[k][2]\n",
    "        #print(\"capacityused\",capacityused[i])\n",
    "        #若超過容量的限制(每台140)，則減去上一個各戶容量\n",
    "        if capacityused[i] >= vehicles[i][1]:\n",
    "            capacityused[i] = capacityused[i] - row_rand[k][2]\n",
    "            k = k - 1\n",
    "            #這台車的客戶數\n",
    "            vehgroup.append(k)\n",
    "            k = k + 1\n",
    "            break\n",
    "        k = k + 1\n",
    "    mass.append(capacityused[i])\n",
    "vehgroup.append(k - 1)\n",
    "print(vehgroup, mass)"
   ]
  },
  {
   "cell_type": "code",
   "execution_count": 6,
   "metadata": {},
   "outputs": [],
   "source": [
    "def subtour(vehgroup,row_rand,row_rand_2):\n",
    "    sub=[]\n",
    "    sub.append(row_rand[:(vehgroup[0]+1)])\n",
    "    vehgroupcords=[]\n",
    "    vehgroupcords.append(row_rand_2[:(vehgroup[0]+1)])\n",
    "    for i in range(0,len(vehgroup)-1):\n",
    "        sub.append(row_rand[(vehgroup[i]+1):(vehgroup[i+1]+1)])\n",
    "        vehgroupcords.append(row_rand_2[(vehgroup[i]+1):(vehgroup[i+1]+1)])\n",
    "    return sub, vehgroupcords"
   ]
  },
  {
   "cell_type": "code",
   "execution_count": 13,
   "metadata": {},
   "outputs": [
    {
     "name": "stdout",
     "output_type": "stream",
     "text": [
      "[array([[31, 32, 29],\n",
      "       [36, 16, 10],\n",
      "       [45, 35, 15],\n",
      "       [37, 52,  7],\n",
      "       [52, 33, 11],\n",
      "       [52, 64, 16],\n",
      "       [51, 21,  5],\n",
      "       [16, 57, 16],\n",
      "       [49, 49, 30]], dtype=int64), array([[32, 22,  9],\n",
      "       [27, 68,  7],\n",
      "       [38, 46, 12],\n",
      "       [17, 63, 19],\n",
      "       [12, 42, 21],\n",
      "       [ 5, 25, 23],\n",
      "       [58, 27, 19],\n",
      "       [30, 48, 15],\n",
      "       [62, 42,  8],\n",
      "       [58, 48,  6]], dtype=int64), array([[13, 13,  9],\n",
      "       [37, 69, 11],\n",
      "       [61, 33, 26],\n",
      "       [21, 47, 15],\n",
      "       [20, 26,  9],\n",
      "       [59, 15, 14],\n",
      "       [46, 10, 23],\n",
      "       [40, 30, 21]], dtype=int64), array([[17, 33, 41],\n",
      "       [63, 69,  6],\n",
      "       [27, 23,  3],\n",
      "       [43, 67, 14],\n",
      "       [ 8, 52, 10],\n",
      "       [ 7, 38, 28],\n",
      "       [57, 58, 28]], dtype=int64), array([[31, 62, 23],\n",
      "       [42, 41, 19],\n",
      "       [52, 41, 15],\n",
      "       [42, 57,  8],\n",
      "       [62, 63, 17]], dtype=int64)] [array([[31, 32],\n",
      "       [36, 16],\n",
      "       [45, 35],\n",
      "       [37, 52],\n",
      "       [52, 33],\n",
      "       [52, 64],\n",
      "       [51, 21],\n",
      "       [16, 57],\n",
      "       [49, 49]], dtype=int64), array([[32, 22],\n",
      "       [27, 68],\n",
      "       [38, 46],\n",
      "       [17, 63],\n",
      "       [12, 42],\n",
      "       [ 5, 25],\n",
      "       [58, 27],\n",
      "       [30, 48],\n",
      "       [62, 42],\n",
      "       [58, 48]], dtype=int64), array([[13, 13],\n",
      "       [37, 69],\n",
      "       [61, 33],\n",
      "       [21, 47],\n",
      "       [20, 26],\n",
      "       [59, 15],\n",
      "       [46, 10],\n",
      "       [40, 30]], dtype=int64), array([[17, 33],\n",
      "       [63, 69],\n",
      "       [27, 23],\n",
      "       [43, 67],\n",
      "       [ 8, 52],\n",
      "       [ 7, 38],\n",
      "       [57, 58]], dtype=int64), array([[31, 62],\n",
      "       [42, 41],\n",
      "       [52, 41],\n",
      "       [42, 57],\n",
      "       [62, 63]], dtype=int64)]\n"
     ]
    }
   ],
   "source": [
    "sub=[]\n",
    "sub.append(row_rand[:(vehgroup[0]+1)])\n",
    "vehgroupcords=[]\n",
    "vehgroupcords.append(row_rand_2[:(vehgroup[0]+1)])\n",
    "for i in range(0,len(vehgroup)-1):\n",
    "    sub.append(row_rand[(vehgroup[i]+1):(vehgroup[i+1]+1)])\n",
    "    vehgroupcords.append(row_rand_2[(vehgroup[i]+1):(vehgroup[i+1]+1)])\n",
    "\n",
    "print(sub, vehgroupcords)"
   ]
  },
  {
   "cell_type": "code",
   "execution_count": 8,
   "metadata": {},
   "outputs": [],
   "source": [
    "def allvehicledistance(sub):\n",
    "    alldistance=functools.reduce(operator.add,(totaltourdistance(x) for x in sub),0)\n",
    "    return alldistance"
   ]
  },
  {
   "cell_type": "code",
   "execution_count": 9,
   "metadata": {},
   "outputs": [
    {
     "name": "stdout",
     "output_type": "stream",
     "text": [
      "1103.2808841928475\n"
     ]
    }
   ],
   "source": [
    "alldistance=functools.reduce(operator.add,(totaltourdistance(x) for x in sub),0)\n",
    "print(alldistance)"
   ]
  },
  {
   "cell_type": "code",
   "execution_count": 10,
   "metadata": {},
   "outputs": [],
   "source": [
    "def tourtodistance(row_rand,vehicles):\n",
    "    #各車能負荷的顧客人數與使用的容量大小\n",
    "    u=subtourslice(row_rand,vehicles)\n",
    "    #各車服務到的顧客\n",
    "    v=subtour(u[0],row_rand)\n",
    "    #五台車的距離加總\n",
    "    total=allvehicledistance(v)\n",
    "    return total"
   ]
  },
  {
   "cell_type": "code",
   "execution_count": 11,
   "metadata": {},
   "outputs": [],
   "source": [
    "col=['b','g','r','c','m']\n",
    "xc=[]\n",
    "yc=[]\n",
    "xd=[depotcor[0]]\n",
    "yd=[depotcor[1]]\n",
    "def plot(xc,yc,xd,yd,col):\n",
    "\n",
    "\n",
    "    for i in range(len(vehgroupcords)):\n",
    "        xc=np.transpose(vehgroupcords[i])[0]\n",
    "        yc=np.transpose(vehgroupcords[i])[1]\n",
    "        plt.scatter(xd,yd,c='k')\n",
    "        plt.scatter([xc[0]],[yc[0]],c='k')\n",
    "\n",
    "        plt.plot([xd,[xc[0]]],[yd,[yc[0]]],col[i])\n",
    "        plt.scatter(xc,yc,c='k')\n",
    "        plt.plot(xc,yc,col[i])\n",
    "        plt.scatter([[xc[-1]],xd],[[yc[-1]],yd],c='k')\n",
    "        plt.plot([[xc[-1]],xd],[[yc[-1]],yd],col[i])\n",
    "    plt.show()"
   ]
  },
  {
   "cell_type": "code",
   "execution_count": 12,
   "metadata": {},
   "outputs": [
    {
     "data": {
      "image/png": "[encoded data removed]",
      "text/plain": [
       "<Figure size 432x288 with 1 Axes>"
      ]
     },
     "metadata": {
      "needs_background": "light"
     },
     "output_type": "display_data"
    }
   ],
   "source": [
    "plot(xc,yc,xd,yd,col)"
   ]
  }
 ],
 "metadata": {
  "kernelspec": {
   "display_name": "Python 3",
   "language": "python",
   "name": "python3"
  },
  "language_info": {
   "codemirror_mode": {
    "name": "ipython",
    "version": 3
   },
   "file_extension": ".py",
   "mimetype": "text/x-python",
   "name": "python",
   "nbconvert_exporter": "python",
   "pygments_lexer": "ipython3",
   "version": "3.7.6"
  }
 },
 "nbformat": 4,
 "nbformat_minor": 4
}
