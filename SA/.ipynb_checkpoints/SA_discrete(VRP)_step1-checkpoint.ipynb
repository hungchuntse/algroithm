{
 "cells": [
  {
   "cell_type": "code",
   "execution_count": 179,
   "metadata": {},
   "outputs": [],
   "source": [
    "import pandas as pd\n",
    "import numpy as np\n",
    "import matplotlib.pyplot as plt\n",
    "import math\n",
    "import functools\n",
    "import operator"
   ]
  },
  {
   "cell_type": "code",
   "execution_count": 180,
   "metadata": {},
   "outputs": [],
   "source": [
    "#用pandas讀取csv檔轉成Dataframe\n",
    "df_cords=pd.read_csv(r\"C:\\Users\\user\\Desktop\\cords.csv\", encoding=\"big5\")\n",
    "df_vehicless=pd.read_csv(r\"C:\\Users\\user\\Desktop\\demand.csv\", encoding=\"big5\", header=None)"
   ]
  },
  {
   "cell_type": "code",
   "execution_count": 221,
   "metadata": {},
   "outputs": [],
   "source": [
    "#捨去需求行，並將原點去除，而後轉為矩陣(numpy)\n",
    "cords=df_cords.to_numpy()\n",
    "cordsd=df_cords.drop('d',axis=1)\n",
    "cordsd=cordsd.drop(0).to_numpy()\n"
   ]
  },
  {
   "cell_type": "code",
   "execution_count": 182,
   "metadata": {},
   "outputs": [],
   "source": [
    "#定義原點位置\n",
    "depot=df_cords.loc[0].drop('d',axis=0)\n",
    "depotcor=depot.to_numpy()"
   ]
  },
  {
   "cell_type": "code",
   "execution_count": 224,
   "metadata": {},
   "outputs": [],
   "source": [
    "custs=df_cords.drop(0).to_numpy()\n",
    "vehicles=df_vehicless.to_numpy()"
   ]
  },
  {
   "cell_type": "code",
   "execution_count": 228,
   "metadata": {},
   "outputs": [],
   "source": [
    "tour=[1,2,3,4,5,6,7,8,9,10,11,12,13,14,15,16,17,18,19,20,21,22,23,24,25,26,27,28,29,30,31,32,33,34,35,36,37,38,39]"
   ]
  },
  {
   "cell_type": "code",
   "execution_count": 185,
   "metadata": {},
   "outputs": [],
   "source": [
    "veh1=[30,40]\n",
    "\n",
    "total=0"
   ]
  },
  {
   "cell_type": "code",
   "execution_count": 209,
   "metadata": {},
   "outputs": [],
   "source": [
    "def distance(x1,x2,y1,y2):\n",
    "    return math.sqrt((x1-x2)**2+(y1-y2)**2)"
   ]
  },
  {
   "cell_type": "code",
   "execution_count": 210,
   "metadata": {},
   "outputs": [
    {
     "name": "stdout",
     "output_type": "stream",
     "text": [
      "1013.8504210113155\n"
     ]
    }
   ],
   "source": [
    "#定義totaltourdistance為總旅程距離(從原點繞一圈回原點的距離)\n",
    "def totaltourdistance(tour):\n",
    "    d=0\n",
    "    for i in range(len(tour)):\n",
    "        x1=cords[i][0]\n",
    "        y1=cords[i][1]\n",
    "        x2=cords[i+1][0]\n",
    "        y2=cords[i+1][1]\n",
    "        d=d+distance(x1,x2,y1,y2)\n",
    "    x1=cords[len(tour)][0]\n",
    "    y1=cords[len(tour)][1]\n",
    "    x2=depot[0]\n",
    "    y2=depot[1]\n",
    "    d=d+distance(x1,x2,y1,y2)\n",
    "    return d\n",
    "print(d)"
   ]
  },
  {
   "cell_type": "code",
   "execution_count": 211,
   "metadata": {},
   "outputs": [
    {
     "name": "stdout",
     "output_type": "stream",
     "text": [
      "[6, 13, 22, 31, 38] [117.0, 131.0, 138.0, 122.0, 110.0]\n"
     ]
    }
   ],
   "source": [
    "#為每台車找出容量的使用情況\n",
    "def subtourslice(tour,vehicles):\n",
    "    capacityused = np.zeros(len(vehicles))\n",
    "    k = 0\n",
    "    #客戶數\n",
    "    vehgroup=[]\n",
    "    #每台車載完客戶後的最大容量\n",
    "    mass = []\n",
    "    for i in range(len(vehicles)):\n",
    "        while capacityused[i] < vehicles[i][1] and k <= (len(tour) - 1):\n",
    "            #各點的項加總\n",
    "            capacityused[i] = capacityused[i] + custs[tour[k] - 1][2]\n",
    "            #print(\"capacityused\",capacityused[i])\n",
    "            #若超過容量的限制(每台140)，則減去上一個各戶容量\n",
    "            if capacityused[i] >= vehicles[i][1]:\n",
    "                capacityused[i] = capacityused[i] - custs[tour[k] - 1][2]\n",
    "                k = k - 1\n",
    "                #這台車的客戶數\n",
    "                vehgroup.append(k)\n",
    "                k = k + 1\n",
    "                break\n",
    "            k = k + 1\n",
    "        mass.append(capacityused[i])\n",
    "    vehgroup.append(k - 1)\n",
    "    return vehgroup,mass\n",
    "print(vehgroup,mass)"
   ]
  },
  {
   "cell_type": "code",
   "execution_count": 226,
   "metadata": {},
   "outputs": [
    {
     "name": "stdout",
     "output_type": "stream",
     "text": [
      "[[1, 2, 3, 4, 5, 6, 7], [8, 9, 10, 11, 12, 13, 14], [15, 16, 17, 18, 19, 20, 21, 22, 23], [24, 25, 26, 27, 28, 29, 30, 31, 32], [33, 34, 35, 36, 37, 38, 39]]\n"
     ]
    }
   ],
   "source": [
    "#切割出每台的客戶(sub)與他們的座標(vehgroupcords)，\n",
    "def subtour(vehgroup,tour):\n",
    "    sub=[]\n",
    "#     vehgroupcords=[]\n",
    "    sub.append(tour[:(vehgroup[0]+1)])\n",
    "#     vehgroupcords.append(cordsd[:(vehgroup[0]+1)])\n",
    "    for i in range(0,len(vehgroup)-1):\n",
    "        sub.append(tour[(vehgroup[i]+1):(vehgroup[i+1]+1)])\n",
    "#         vehgroupcords.append(cordsd[(vehgroup[i]+1):(vehgroup[i+1]+1)])\n",
    "    return sub\n",
    "\n",
    "print(sub)"
   ]
  },
  {
   "cell_type": "code",
   "execution_count": 250,
   "metadata": {},
   "outputs": [
    {
     "name": "stdout",
     "output_type": "stream",
     "text": [
      "993.220981886226\n"
     ]
    }
   ],
   "source": [
    "#五台車的總距離\n",
    "def allvehicledistance(sub):\n",
    "    alldistance=functools.reduce(operator.add,(totaltourdistance(x) for x in sub),0)\n",
    "    return alldistance\n",
    "print(alldistance)"
   ]
  },
  {
   "cell_type": "code",
   "execution_count": 253,
   "metadata": {},
   "outputs": [
    {
     "name": "stdout",
     "output_type": "stream",
     "text": [
      "[[1, 2, 3, 4, 5, 6, 7], [8, 9, 10, 11, 12, 13, 14], [15, 16, 17, 18, 19, 20, 21, 22, 23], [24, 25, 26, 27, 28, 29, 30, 31, 32], [33, 34, 35, 36, 37, 38, 39]]\n"
     ]
    }
   ],
   "source": [
    "#彙整前三個定義\n",
    "def tourtodistance(tour,vehicles):\n",
    "    #各車能負荷的顧客人數與使用的容量大小\n",
    "    u=subtourslice(tour,vehicles)\n",
    "    #各車服務到的顧客\n",
    "    v=subtour(u[0],tour)\n",
    "    #五台車的距離加總\n",
    "    total=allvehicledistance(v)\n",
    "    return total\n",
    "print(v)"
   ]
  },
  {
   "cell_type": "code",
   "execution_count": 256,
   "metadata": {},
   "outputs": [
    {
     "name": "stdout",
     "output_type": "stream",
     "text": [
      "([6, 13, 22, 31, 38], [117.0, 131.0, 138.0, 122.0, 110.0])\n",
      "[[1, 2, 3, 4, 5, 6, 7], [8, 9, 10, 11, 12, 13, 14], [15, 16, 17, 18, 19, 20, 21, 22, 23], [24, 25, 26, 27, 28, 29, 30, 31, 32], [33, 34, 35, 36, 37, 38, 39]]\n",
      "993.220981886226\n",
      "[array([[37, 52],\n",
      "       [49, 49],\n",
      "       [52, 64],\n",
      "       [20, 26],\n",
      "       [40, 30],\n",
      "       [21, 47],\n",
      "       [17, 63]], dtype=int64), array([[31, 62],\n",
      "       [52, 33],\n",
      "       [51, 21],\n",
      "       [42, 41],\n",
      "       [31, 32],\n",
      "       [ 5, 25],\n",
      "       [12, 42]], dtype=int64), array([[36, 16],\n",
      "       [52, 41],\n",
      "       [27, 23],\n",
      "       [17, 33],\n",
      "       [13, 13],\n",
      "       [57, 58],\n",
      "       [62, 42],\n",
      "       [42, 57],\n",
      "       [16, 57]], dtype=int64), array([[ 8, 52],\n",
      "       [ 7, 38],\n",
      "       [27, 68],\n",
      "       [30, 48],\n",
      "       [43, 67],\n",
      "       [58, 48],\n",
      "       [58, 27],\n",
      "       [37, 69],\n",
      "       [38, 46]], dtype=int64), array([[46, 10],\n",
      "       [61, 33],\n",
      "       [62, 63],\n",
      "       [63, 69],\n",
      "       [32, 22],\n",
      "       [45, 35],\n",
      "       [59, 15]], dtype=int64)]\n"
     ]
    }
   ],
   "source": [
    "#各車能負荷的顧客人數與使用的容量大小\n",
    "u=subtourslice(tour,vehicles)\n",
    "#各車服務到的顧客\n",
    "v=subtour(u[0],tour)\n",
    "#五台車的距離加總\n",
    "total=allvehicledistance(v)\n",
    "\n",
    "print(u)\n",
    "print(v)\n",
    "print(total)\n",
    "print(vehgroupcords)"
   ]
  },
  {
   "cell_type": "code",
   "execution_count": 192,
   "metadata": {},
   "outputs": [],
   "source": [
    "col=['b','g','r','c','m']\n",
    "def plot(xc,yc,xd,yd,col):\n",
    "    xc=[]\n",
    "    yc=[]\n",
    "    xd=[depotcor[0]]\n",
    "    yd=[depotcor[1]]\n",
    "    for i in range(len(vehgroupcords)):\n",
    "        xc=np.transpose(vehgroupcords[i])[0]\n",
    "        yc=np.transpose(vehgroupcords[i])[1]\n",
    "\n",
    "        plt.scatter([xd,[xc[0]]],[yd,[yc[0]]],c='k')\n",
    "        plt.plot([xd,[xc[0]]],[yd,[yc[0]]],col[i])\n",
    "        plt.scatter(xc,yc,c='k')\n",
    "        plt.plot(xc,yc,col[i])\n",
    "        plt.scatter([[xc[-1]],xd],[[yc[-1]],yd],c='k')\n",
    "        plt.plot([[xc[-1]],xd],[[yc[-1]],yd],col[i])\n",
    "            #break\n",
    "       # if i==len(vehgroupcords):\n",
    "            #plt.scatter([xc[i],xd],[yc[i],yd])\n",
    "            #plt.plot([xc[i],xd],[yc[i],yd])\n",
    "        #plt.scatter(xc,yc)\n",
    "        #plt.plot(xc,yc)\n",
    "\n",
    "        \n",
    "         #print(i)\n",
    "        #np.transpose(vehgroupcords[i])\n",
    "            #print(vehgroupcords[i][j])\n",
    "            #plt.scatter(vehgroupcords[i][j][0],vehgroupcords[i][j][1],'ok-')\n",
    "        #plt.plot(np.transpose(vehgroupcords[i]))\n",
    "            #print(vehgroupcords[i][j][0])\n",
    "            #plt.plot(x,y)"
   ]
  },
  {
   "cell_type": "code",
   "execution_count": 248,
   "metadata": {},
   "outputs": [
    {
     "data": {
      "image/png": "[encoded data removed]",
      "text/plain": [
       "<Figure size 432x288 with 1 Axes>"
      ]
     },
     "metadata": {
      "needs_background": "light"
     },
     "output_type": "display_data"
    }
   ],
   "source": [
    "xc=[]\n",
    "yc=[]\n",
    "xd=[depotcor[0]]\n",
    "yd=[depotcor[1]]\n",
    "for i in range(len(vehgroupcords)):\n",
    "    xc=np.transpose(vehgroupcords[i])[0]\n",
    "    yc=np.transpose(vehgroupcords[i])[1]\n",
    "\n",
    "    plt.scatter(xd,yd,c='k')\n",
    "    plt.scatter([xc[0]],[yc[0]],c='k')\n",
    "\n",
    "    plt.plot([xd,[xc[0]]],[yd,[yc[0]]],col[i])\n",
    "    plt.scatter(xc,yc,c='k')\n",
    "    plt.plot(xc,yc,col[i])\n"
   ]
  }
 ],
 "metadata": {
  "kernelspec": {
   "display_name": "Python 3",
   "language": "python",
   "name": "python3"
  },
  "language_info": {
   "codemirror_mode": {
    "name": "ipython",
    "version": 3
   },
   "file_extension": ".py",
   "mimetype": "text/x-python",
   "name": "python",
   "nbconvert_exporter": "python",
   "pygments_lexer": "ipython3",
   "version": "3.7.6"
  }
 },
 "nbformat": 4,
 "nbformat_minor": 4
}
